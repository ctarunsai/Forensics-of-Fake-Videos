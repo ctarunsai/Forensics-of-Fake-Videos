{
  "nbformat": 4,
  "nbformat_minor": 0,
  "metadata": {
    "kernelspec": {
      "name": "python3",
      "display_name": "Python 3"
    },
    "language_info": {
      "codemirror_mode": {
        "name": "ipython",
        "version": 3
      },
      "file_extension": ".py",
      "mimetype": "text/x-python",
      "name": "python",
      "nbconvert_exporter": "python",
      "pygments_lexer": "ipython3",
      "version": "3.7.4"
    },
    "colab": {
      "name": "DeepFake.ipynb",
      "provenance": [],
      "collapsed_sections": [],
      "toc_visible": true
    },
    "accelerator": "TPU"
  },
  "cells": [
    {
      "cell_type": "code",
      "metadata": {
        "id": "tpl3GiiDdXIT",
        "colab_type": "code",
        "colab": {}
      },
      "source": [
        "import os, sys, time\n",
        "import cv2\n",
        "import numpy as np\n",
        "import pandas as pd\n",
        "\n",
        "import torch\n",
        "import torch.nn as nn\n",
        "import torch.nn.functional as F\n",
        "\n",
        "%matplotlib inline\n",
        "import matplotlib.pyplot as plt"
      ],
      "execution_count": 0,
      "outputs": []
    },
    {
      "cell_type": "code",
      "metadata": {
        "id": "eOpIDyh1dXIZ",
        "colab_type": "code",
        "outputId": "2b0c97cc-ad68-4a9f-fef6-cfa0ec8ef147",
        "colab": {
          "base_uri": "https://localhost:8080/",
          "height": 34
        }
      },
      "source": [
        "test_dir = \"drive/My Drive/deepfake-detection-challenge/test_videos/\"\n",
        "\n",
        "test_videos = sorted([x for x in os.listdir(test_dir) if x[-4:] == \".mp4\"])\n",
        "frame_h = 5\n",
        "frame_l = 5\n",
        "len(test_videos)"
      ],
      "execution_count": 2,
      "outputs": [
        {
          "output_type": "execute_result",
          "data": {
            "text/plain": [
              "400"
            ]
          },
          "metadata": {
            "tags": []
          },
          "execution_count": 2
        }
      ]
    },
    {
      "cell_type": "code",
      "metadata": {
        "id": "XLGD4G-hdgkD",
        "colab_type": "code",
        "outputId": "3c87109d-988b-495d-8167-85659d1117da",
        "colab": {
          "base_uri": "https://localhost:8080/",
          "height": 54
        }
      },
      "source": [
        "from google.colab import drive\n",
        "drive.mount('/content/drive')"
      ],
      "execution_count": 3,
      "outputs": [
        {
          "output_type": "stream",
          "text": [
            "Drive already mounted at /content/drive; to attempt to forcibly remount, call drive.mount(\"/content/drive\", force_remount=True).\n"
          ],
          "name": "stdout"
        }
      ]
    },
    {
      "cell_type": "code",
      "metadata": {
        "id": "ZXLVhWb1dXId",
        "colab_type": "code",
        "outputId": "1e6164bb-a830-47f9-a825-5de0d13fc099",
        "colab": {
          "base_uri": "https://localhost:8080/",
          "height": 68
        }
      },
      "source": [
        "print(\"PyTorch version:\", torch.__version__)\n",
        "print(\"CUDA version:\", torch.version.cuda)\n",
        "print(\"cuDNN version:\", torch.backends.cudnn.version())"
      ],
      "execution_count": 4,
      "outputs": [
        {
          "output_type": "stream",
          "text": [
            "PyTorch version: 1.4.0\n",
            "CUDA version: 10.1\n",
            "cuDNN version: 7603\n"
          ],
          "name": "stdout"
        }
      ]
    },
    {
      "cell_type": "code",
      "metadata": {
        "id": "f0SMByCydXIg",
        "colab_type": "code",
        "outputId": "f5e92187-41e8-4346-cf4d-b43df290881b",
        "colab": {
          "base_uri": "https://localhost:8080/",
          "height": 34
        }
      },
      "source": [
        "gpu = torch.device(\"cuda:0\" if torch.cuda.is_available() else \"cpu\")\n",
        "gpu"
      ],
      "execution_count": 5,
      "outputs": [
        {
          "output_type": "execute_result",
          "data": {
            "text/plain": [
              "device(type='cpu')"
            ]
          },
          "metadata": {
            "tags": []
          },
          "execution_count": 5
        }
      ]
    },
    {
      "cell_type": "code",
      "metadata": {
        "id": "c4k-2zpydXIj",
        "colab_type": "code",
        "colab": {}
      },
      "source": [
        "\n",
        "import sys\n",
        "sys.path.insert(0, \"drive/My Drive/deepfake-detection-challenge/blazeface-pytorch\")\n",
        "sys.path.insert(0, \"drive/My Drive/deepfake-detection-challenge/deepfakes-inference-demo\")"
      ],
      "execution_count": 0,
      "outputs": []
    },
    {
      "cell_type": "code",
      "metadata": {
        "id": "GJFN7SZpdXIm",
        "colab_type": "code",
        "colab": {}
      },
      "source": [
        "from blazeface import BlazeFace\n",
        "facedet = BlazeFace().to(gpu)\n",
        "facedet.load_weights(\"drive/My Drive/deepfake-detection-challenge/blazeface-pytorch/blazeface.pth\")\n",
        "facedet.load_anchors(\"drive/My Drive/deepfake-detection-challenge/blazeface-pytorch/anchors.npy\")\n",
        "_ = facedet.train(False)"
      ],
      "execution_count": 0,
      "outputs": []
    },
    {
      "cell_type": "code",
      "metadata": {
        "id": "nXsiGSurdXIo",
        "colab_type": "code",
        "colab": {}
      },
      "source": [
        "from helpers.read_video_1 import VideoReader\n",
        "from helpers.face_extract_1 import FaceExtractor\n",
        "\n",
        "frames_per_video = frame_h * frame_l\n",
        "video_reader = VideoReader()\n",
        "video_read_fn = lambda x: video_reader.read_frames(x, num_frames=frames_per_video)\n",
        "face_extractor = FaceExtractor(video_read_fn, facedet)"
      ],
      "execution_count": 0,
      "outputs": []
    },
    {
      "cell_type": "code",
      "metadata": {
        "id": "rPIWxtgOdXIr",
        "colab_type": "code",
        "colab": {}
      },
      "source": [
        "input_size = 224\n"
      ],
      "execution_count": 0,
      "outputs": []
    },
    {
      "cell_type": "code",
      "metadata": {
        "id": "kCgfZvE7dXIt",
        "colab_type": "code",
        "colab": {}
      },
      "source": [
        "from torchvision.transforms import Normalize\n",
        "\n",
        "mean = [0.485, 0.456, 0.406]\n",
        "std = [0.229, 0.224, 0.225]\n",
        "normalize_transform = Normalize(mean, std)"
      ],
      "execution_count": 0,
      "outputs": []
    },
    {
      "cell_type": "code",
      "metadata": {
        "id": "CPr1CUtsdXIx",
        "colab_type": "code",
        "colab": {}
      },
      "source": [
        "def isotropically_resize_image(img, size, resample=cv2.INTER_AREA):\n",
        "    h, w = img.shape[:2]\n",
        "    if w > h:\n",
        "        h = h * size // w\n",
        "        w = size\n",
        "    else:\n",
        "        w = w * size // h\n",
        "        h = size\n",
        "\n",
        "    resized = cv2.resize(img, (w, h), interpolation=resample)\n",
        "    return resized\n",
        "\n",
        "\n",
        "def make_square_image(img):\n",
        "    h, w = img.shape[:2]\n",
        "    size = max(h, w)\n",
        "    t = 0\n",
        "    b = size - h\n",
        "    l = 0\n",
        "    r = size - w\n",
        "    return cv2.copyMakeBorder(img, t, b, l, r, cv2.BORDER_CONSTANT, value=0)"
      ],
      "execution_count": 0,
      "outputs": []
    },
    {
      "cell_type": "code",
      "metadata": {
        "id": "G32EHXm6dXI0",
        "colab_type": "code",
        "colab": {}
      },
      "source": [
        "import torch.nn as nn\n",
        "import torchvision.models as models\n",
        "\n",
        "class MyResNeXt(models.resnet.ResNet):\n",
        "    def __init__(self, training=True):\n",
        "        super(MyResNeXt, self).__init__(block=models.resnet.Bottleneck,\n",
        "                                        layers=[3, 4, 6, 3], \n",
        "                                        groups=32, \n",
        "                                        width_per_group=4)\n",
        "        self.fc = nn.Linear(2048, 1)"
      ],
      "execution_count": 0,
      "outputs": []
    },
    {
      "cell_type": "code",
      "metadata": {
        "id": "znhjj6QQdXI2",
        "colab_type": "code",
        "colab": {}
      },
      "source": [
        "checkpoint = torch.load(\"drive/My Drive/deepfake-detection-challenge/deepfakes-inference-demo/resnext.pth\", map_location=gpu)\n",
        "\n",
        "model = MyResNeXt().to(gpu)\n",
        "model.load_state_dict(checkpoint)\n",
        "_ = model.eval()\n",
        "\n",
        "del checkpoint"
      ],
      "execution_count": 0,
      "outputs": []
    },
    {
      "cell_type": "code",
      "metadata": {
        "id": "GPvhXjjEdXI4",
        "colab_type": "code",
        "colab": {}
      },
      "source": [
        "def predict_on_video(video_path, batch_size):\n",
        "    try:\n",
        "        # Find the faces for N frames in the video.\n",
        "        faces = face_extractor.process_video(video_path)\n",
        "\n",
        "        # Only look at one face per frame.\n",
        "        face_extractor.keep_only_best_face(faces)\n",
        "        \n",
        "        if len(faces) > 0:\n",
        "            # NOTE: When running on the CPU, the batch size must be fixed\n",
        "            # or else memory usage will blow up. (Bug in PyTorch?)\n",
        "            x = np.zeros((batch_size, input_size, input_size, 3), dtype=np.uint8)\n",
        "\n",
        "            # If we found any faces, prepare them for the model.\n",
        "            n = 0\n",
        "            for frame_data in faces:\n",
        "                for face in frame_data[\"faces\"]:\n",
        "                    # Resize to the model's required input size.\n",
        "                    # We keep the aspect ratio intact and add zero\n",
        "                    # padding if necessary.                    \n",
        "                    resized_face = isotropically_resize_image(face, input_size)\n",
        "                    resized_face = make_square_image(resized_face)\n",
        "\n",
        "                    if n < batch_size:\n",
        "                        x[n] = resized_face\n",
        "                        n += 1\n",
        "                    else:\n",
        "                        print(\"WARNING: have %d faces but batch size is %d\" % (n, batch_size))\n",
        "                    \n",
        "                    # Test time augmentation: horizontal flips.\n",
        "                    # TODO: not sure yet if this helps or not\n",
        "                    #x[n] = cv2.flip(resized_face, 1)\n",
        "                    #n += 1\n",
        "\n",
        "            if n > 0:\n",
        "                x = torch.tensor(x, device=gpu).float()\n",
        "\n",
        "                # Preprocess the images.\n",
        "                x = x.permute((0, 3, 1, 2))\n",
        "\n",
        "                for i in range(len(x)):\n",
        "                    x[i] = normalize_transform(x[i] / 255.)\n",
        "\n",
        "                # Make a prediction, then take the average.\n",
        "                with torch.no_grad():\n",
        "                    y_pred = model(x)\n",
        "                    y_pred = torch.sigmoid(y_pred.squeeze())\n",
        "                    return y_pred[:n].mean().item()\n",
        "\n",
        "    except Exception as e:\n",
        "        print(\"Prediction error on video %s: %s\" % (video_path, str(e)))\n",
        "\n",
        "    return 0.5"
      ],
      "execution_count": 0,
      "outputs": []
    },
    {
      "cell_type": "code",
      "metadata": {
        "id": "7qBirAdsdXI6",
        "colab_type": "code",
        "colab": {}
      },
      "source": [
        "from concurrent.futures import ThreadPoolExecutor\n",
        "\n",
        "def predict_on_video_set(videos, num_workers):\n",
        "    def process_file(i):\n",
        "        filename = videos[i]\n",
        "        y_pred = predict_on_video(os.path.join(test_dir, filename), batch_size=frames_per_video)\n",
        "        return y_pred\n",
        "\n",
        "    with ThreadPoolExecutor(max_workers=num_workers) as ex:\n",
        "        predictions = ex.map(process_file, range(len(videos)))\n",
        "\n",
        "    return list(predictions)"
      ],
      "execution_count": 0,
      "outputs": []
    },
    {
      "cell_type": "code",
      "metadata": {
        "id": "fyTwVg_WdXI9",
        "colab_type": "code",
        "colab": {}
      },
      "source": [
        "speed_test = False  # you have to enable this manually\n"
      ],
      "execution_count": 0,
      "outputs": []
    },
    {
      "cell_type": "code",
      "metadata": {
        "id": "7KNot82gdXJB",
        "colab_type": "code",
        "colab": {}
      },
      "source": [
        "if speed_test:\n",
        "    start_time = time.time()\n",
        "    speedtest_videos = test_videos[:5]\n",
        "    predictions = predict_on_video_set(speedtest_videos, num_workers=4)\n",
        "    elapsed = time.time() - start_time\n",
        "    print(\"Elapsed %f sec. Average per video: %f sec.\" % (elapsed, elapsed / len(speedtest_videos)))"
      ],
      "execution_count": 0,
      "outputs": []
    },
    {
      "cell_type": "code",
      "metadata": {
        "id": "HWWRnA4tdXJE",
        "colab_type": "code",
        "colab": {}
      },
      "source": [
        "predictions = predict_on_video_set(test_videos, num_workers=4)"
      ],
      "execution_count": 0,
      "outputs": []
    },
    {
      "cell_type": "code",
      "metadata": {
        "id": "dPjnSWxRdXJG",
        "colab_type": "code",
        "colab": {}
      },
      "source": [
        "submission_df = pd.DataFrame({\"filename\": test_videos, \"label\": predictions})\n",
        "submission_df.to_csv(\"drive/My Drive/deepfake-detection-challenge/output.csv\", index=False)"
      ],
      "execution_count": 0,
      "outputs": []
    },
    {
      "cell_type": "code",
      "metadata": {
        "id": "yYonA6myfFW_",
        "colab_type": "code",
        "colab": {}
      },
      "source": [
        ""
      ],
      "execution_count": 0,
      "outputs": []
    }
  ]
}